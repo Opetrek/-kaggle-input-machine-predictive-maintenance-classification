{
  "cells": [
    {
      "cell_type": "code",
      "source": [
        "!pip install googletrans==3.1.0a0"
      ],
      "metadata": {
        "colab": {
          "base_uri": "https://localhost:8080/"
        },
        "id": "5m5wRT11fcAV",
        "outputId": "e8cd458b-91b8-4fa2-d868-d51b14604ce5"
      },
      "execution_count": 1,
      "outputs": [
        {
          "output_type": "stream",
          "name": "stdout",
          "text": [
            "Collecting googletrans==3.1.0a0\n",
            "  Downloading googletrans-3.1.0a0.tar.gz (19 kB)\n",
            "  Preparing metadata (setup.py) ... \u001b[?25l\u001b[?25hdone\n",
            "Collecting httpx==0.13.3 (from googletrans==3.1.0a0)\n",
            "  Downloading httpx-0.13.3-py3-none-any.whl (55 kB)\n",
            "\u001b[2K     \u001b[90m━━━━━━━━━━━━━━━━━━━━━━━━━━━━━━━━━━━━━━━━\u001b[0m \u001b[32m55.1/55.1 kB\u001b[0m \u001b[31m2.2 MB/s\u001b[0m eta \u001b[36m0:00:00\u001b[0m\n",
            "\u001b[?25hRequirement already satisfied: certifi in /usr/local/lib/python3.10/dist-packages (from httpx==0.13.3->googletrans==3.1.0a0) (2023.11.17)\n",
            "Collecting hstspreload (from httpx==0.13.3->googletrans==3.1.0a0)\n",
            "  Downloading hstspreload-2024.1.5-py3-none-any.whl (1.1 MB)\n",
            "\u001b[2K     \u001b[90m━━━━━━━━━━━━━━━━━━━━━━━━━━━━━━━━━━━━━━━━\u001b[0m \u001b[32m1.1/1.1 MB\u001b[0m \u001b[31m5.6 MB/s\u001b[0m eta \u001b[36m0:00:00\u001b[0m\n",
            "\u001b[?25hRequirement already satisfied: sniffio in /usr/local/lib/python3.10/dist-packages (from httpx==0.13.3->googletrans==3.1.0a0) (1.3.0)\n",
            "Collecting chardet==3.* (from httpx==0.13.3->googletrans==3.1.0a0)\n",
            "  Downloading chardet-3.0.4-py2.py3-none-any.whl (133 kB)\n",
            "\u001b[2K     \u001b[90m━━━━━━━━━━━━━━━━━━━━━━━━━━━━━━━━━━━━━━━━\u001b[0m \u001b[32m133.4/133.4 kB\u001b[0m \u001b[31m9.0 MB/s\u001b[0m eta \u001b[36m0:00:00\u001b[0m\n",
            "\u001b[?25hCollecting idna==2.* (from httpx==0.13.3->googletrans==3.1.0a0)\n",
            "  Downloading idna-2.10-py2.py3-none-any.whl (58 kB)\n",
            "\u001b[2K     \u001b[90m━━━━━━━━━━━━━━━━━━━━━━━━━━━━━━━━━━━━━━━━\u001b[0m \u001b[32m58.8/58.8 kB\u001b[0m \u001b[31m3.8 MB/s\u001b[0m eta \u001b[36m0:00:00\u001b[0m\n",
            "\u001b[?25hCollecting rfc3986<2,>=1.3 (from httpx==0.13.3->googletrans==3.1.0a0)\n",
            "  Downloading rfc3986-1.5.0-py2.py3-none-any.whl (31 kB)\n",
            "Collecting httpcore==0.9.* (from httpx==0.13.3->googletrans==3.1.0a0)\n",
            "  Downloading httpcore-0.9.1-py3-none-any.whl (42 kB)\n",
            "\u001b[2K     \u001b[90m━━━━━━━━━━━━━━━━━━━━━━━━━━━━━━━━━━━━━━━━\u001b[0m \u001b[32m42.6/42.6 kB\u001b[0m \u001b[31m2.0 MB/s\u001b[0m eta \u001b[36m0:00:00\u001b[0m\n",
            "\u001b[?25hCollecting h11<0.10,>=0.8 (from httpcore==0.9.*->httpx==0.13.3->googletrans==3.1.0a0)\n",
            "  Downloading h11-0.9.0-py2.py3-none-any.whl (53 kB)\n",
            "\u001b[2K     \u001b[90m━━━━━━━━━━━━━━━━━━━━━━━━━━━━━━━━━━━━━━━━\u001b[0m \u001b[32m53.6/53.6 kB\u001b[0m \u001b[31m4.4 MB/s\u001b[0m eta \u001b[36m0:00:00\u001b[0m\n",
            "\u001b[?25hCollecting h2==3.* (from httpcore==0.9.*->httpx==0.13.3->googletrans==3.1.0a0)\n",
            "  Downloading h2-3.2.0-py2.py3-none-any.whl (65 kB)\n",
            "\u001b[2K     \u001b[90m━━━━━━━━━━━━━━━━━━━━━━━━━━━━━━━━━━━━━━━━\u001b[0m \u001b[32m65.0/65.0 kB\u001b[0m \u001b[31m4.1 MB/s\u001b[0m eta \u001b[36m0:00:00\u001b[0m\n",
            "\u001b[?25hCollecting hyperframe<6,>=5.2.0 (from h2==3.*->httpcore==0.9.*->httpx==0.13.3->googletrans==3.1.0a0)\n",
            "  Downloading hyperframe-5.2.0-py2.py3-none-any.whl (12 kB)\n",
            "Collecting hpack<4,>=3.0 (from h2==3.*->httpcore==0.9.*->httpx==0.13.3->googletrans==3.1.0a0)\n",
            "  Downloading hpack-3.0.0-py2.py3-none-any.whl (38 kB)\n",
            "Building wheels for collected packages: googletrans\n",
            "  Building wheel for googletrans (setup.py) ... \u001b[?25l\u001b[?25hdone\n",
            "  Created wheel for googletrans: filename=googletrans-3.1.0a0-py3-none-any.whl size=16352 sha256=6a82c527128827abf42a98de4935efedfffc021827a06cb2c0cbc0bda4a166ff\n",
            "  Stored in directory: /root/.cache/pip/wheels/50/5d/3c/8477d0af4ca2b8b1308812c09f1930863caeebc762fe265a95\n",
            "Successfully built googletrans\n",
            "Installing collected packages: rfc3986, hyperframe, hpack, h11, chardet, idna, hstspreload, h2, httpcore, httpx, googletrans\n",
            "  Attempting uninstall: chardet\n",
            "    Found existing installation: chardet 5.2.0\n",
            "    Uninstalling chardet-5.2.0:\n",
            "      Successfully uninstalled chardet-5.2.0\n",
            "  Attempting uninstall: idna\n",
            "    Found existing installation: idna 3.6\n",
            "    Uninstalling idna-3.6:\n",
            "      Successfully uninstalled idna-3.6\n",
            "Successfully installed chardet-3.0.4 googletrans-3.1.0a0 h11-0.9.0 h2-3.2.0 hpack-3.0.0 hstspreload-2024.1.5 httpcore-0.9.1 httpx-0.13.3 hyperframe-5.2.0 idna-2.10 rfc3986-1.5.0\n"
          ]
        }
      ]
    },
    {
      "cell_type": "code",
      "source": [
        "from googletrans import Translator, constants\n",
        "from pprint import pprint"
      ],
      "metadata": {
        "id": "Zw9bwncUfb28"
      },
      "execution_count": 2,
      "outputs": []
    },
    {
      "cell_type": "code",
      "source": [
        "# init the Google API translator\n",
        "translator = Translator()"
      ],
      "metadata": {
        "id": "ldvobQP_fhiL"
      },
      "execution_count": 3,
      "outputs": []
    },
    {
      "cell_type": "code",
      "source": [
        "# translate a spanish text to english text (by default)\n",
        "translation = translator.translate(\"Hola Mundo\")\n",
        "print(f\"{translation.origin} ({translation.src}) --> {translation.text} ({translation.dest})\")"
      ],
      "metadata": {
        "colab": {
          "base_uri": "https://localhost:8080/"
        },
        "id": "GDtucwVgfls2",
        "outputId": "15b30f38-50cb-4a47-b265-db65016ed22f"
      },
      "execution_count": 4,
      "outputs": [
        {
          "output_type": "stream",
          "name": "stdout",
          "text": [
            "Hola Mundo (es) --> Hello World (en)\n"
          ]
        }
      ]
    },
    {
      "cell_type": "code",
      "source": [
        "# translate a spanish text to arabic for instance\n",
        "translation = translator.translate(\"I walked outside in the evening and met the sunset with my friends\", dest=\"ru\")\n",
        "print(f\"{translation.origin} ({translation.src}) --> {translation.text} ({translation.dest})\")"
      ],
      "metadata": {
        "colab": {
          "base_uri": "https://localhost:8080/"
        },
        "id": "kTIGvJUxfp5S",
        "outputId": "ee22005c-a0f9-4eff-87bc-98ba08b40688"
      },
      "execution_count": 11,
      "outputs": [
        {
          "output_type": "stream",
          "name": "stdout",
          "text": [
            "I walked outside in the evening and met the sunset with my friends (en) --> Вечером я вышел на улицу и встретил закат с друзьями (ru)\n"
          ]
        }
      ]
    },
    {
      "cell_type": "code",
      "source": [
        "# specify source language\n",
        "translation = translator.translate(\"Wie gehts ?\", src=\"de\")\n",
        "print(f\"{translation.origin} ({translation.src}) --> {translation.text} ({translation.dest})\")"
      ],
      "metadata": {
        "colab": {
          "base_uri": "https://localhost:8080/"
        },
        "id": "4SinSI3iftyl",
        "outputId": "26224b03-af33-4db6-d1d6-25603df555aa"
      },
      "execution_count": 6,
      "outputs": [
        {
          "output_type": "stream",
          "name": "stdout",
          "text": [
            "Wie gehts ? (de) --> How are you ? (en)\n"
          ]
        }
      ]
    },
    {
      "cell_type": "code",
      "source": [
        "# print all translations and other data\n",
        "pprint(translation.extra_data)"
      ],
      "metadata": {
        "colab": {
          "base_uri": "https://localhost:8080/"
        },
        "id": "IUC2PgEbfzre",
        "outputId": "cfa23e76-95aa-4f88-8c53-fd18f4e2156f"
      },
      "execution_count": 7,
      "outputs": [
        {
          "output_type": "stream",
          "name": "stdout",
          "text": [
            "{'all-translations': [['interjection',\n",
            "                       ['How are you doing?', \"What's up?\"],\n",
            "                       [['How are you doing?', [\"Wie geht's?\"]],\n",
            "                        [\"What's up?\", [\"Wie geht's?\"]]],\n",
            "                       \"Wie geht's?\",\n",
            "                       9]],\n",
            " 'confidence': 1,\n",
            " 'definitions': None,\n",
            " 'examples': None,\n",
            " 'language': [['de'], None, [1], ['de']],\n",
            " 'original-language': 'de',\n",
            " 'possible-mistakes': None,\n",
            " 'possible-translations': [['Wie gehts ?',\n",
            "                            None,\n",
            "                            [['How are you ?', 1000, True, False, [10]],\n",
            "                             [\"How's it going ?\", 1000, True, False, [10]],\n",
            "                             ['How are you?', 0, True, False, [3], None, [[3]]],\n",
            "                             [\"How's it going?\", 0, True, False, [8]]],\n",
            "                            [[0, 11]],\n",
            "                            'Wie gehts ?',\n",
            "                            0,\n",
            "                            0]],\n",
            " 'see-also': None,\n",
            " 'synonyms': None,\n",
            " 'translation': [['How are you ?', 'Wie gehts ?', None, None, 10]]}\n"
          ]
        }
      ]
    },
    {
      "cell_type": "code",
      "source": [
        "# translate more than a phrase\n",
        "sentences = [\n",
        "    \"Hello everyone\",\n",
        "    \"How are you ?\",\n",
        "    \"Do you speak english ?\",\n",
        "    \"Good bye!\"\n",
        "]\n",
        "translations = translator.translate(sentences, dest=\"tr\")\n",
        "for translation in translations:\n",
        "    print(f\"{translation.origin} ({translation.src}) --> {translation.text} ({translation.dest})\")"
      ],
      "metadata": {
        "colab": {
          "base_uri": "https://localhost:8080/"
        },
        "id": "2zHd30Ixf39n",
        "outputId": "9ee05806-7e9d-487b-b990-fc8670c107d2"
      },
      "execution_count": 8,
      "outputs": [
        {
          "output_type": "stream",
          "name": "stdout",
          "text": [
            "Hello everyone (en) --> Herkese merhaba (tr)\n",
            "How are you ? (en) --> Nasılsın ? (tr)\n",
            "Do you speak english ? (en) --> İngilizce biliyor musunuz ? (tr)\n",
            "Good bye! (en) --> Güle güle! (tr)\n"
          ]
        }
      ]
    }
  ],
  "metadata": {
    "colab": {
      "toc_visible": true,
      "provenance": []
    },
    "kernelspec": {
      "display_name": "Python 3",
      "name": "python3"
    }
  },
  "nbformat": 4,
  "nbformat_minor": 0
}